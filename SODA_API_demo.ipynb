{
 "cells": [
  {
   "cell_type": "markdown",
   "metadata": {},
   "source": [
    "# Exploring the data.seattle.gov API\n",
    "The API for data.seattle.gov is called the SODA API (for \"Socrata Open Data API\"). This API allows you to do a lot of filtering and selecting your data before you download it. Not all APIs offer this kind of expanded 'query' functionality, but it can be very useful when they do, for at least 2 reasons:\n",
    "\n",
    "1. it is often easier to select and filter the data you want with an API query than by using Python loops and conditional statements.\n",
    "2. it allows you to download only a subset of the dataset. If the dataset is very large this can save space on your computer and speed up your code (because Python doesn't have to loop through so many rows every time you perform an operation).\n",
    "\n",
    "In this notebook, we will walk through a couple of examples of different kinds of API queries you can do with the data.seattle.gov API. If you are interested in getting more practice with this API, you can check out [the API docs here](https://dev.socrata.com/). "
   ]
  },
  {
   "cell_type": "markdown",
   "metadata": {},
   "source": [
    "# Step 1: test the API (do this first)\n",
    "Run the code in the cell below. You should a list with one large dictionary inside it, which contains a bunch of information about the fancy new [Bill and Melinda Gates Computer Science building](https://www.engr.washington.edu/about/bldgs/cse2)."
   ]
  },
  {
   "cell_type": "code",
   "execution_count": 1,
   "metadata": {},
   "outputs": [
    {
     "name": "stdout",
     "output_type": "stream",
     "text": [
      "\"https://data.seattle.gov/resource/76t5-zqzr.json?$where=(PermitNum='6531736-PH')\"\n",
      "[{'applieddate': '2016-10-07',\n",
      "  'contractorcompanyname': 'M A MORTENSON COMPANY',\n",
      "  'description': 'Construct institutional building (University of Washington, '\n",
      "                 'Computer Science and Engineering Dept.), occupy per plan.',\n",
      "  'estprojectcost': '23886804.0000',\n",
      "  'expiresdate': '2020-04-03',\n",
      "  'housingunitsadded': '0.0',\n",
      "  'housingunitsremoved': '0.0',\n",
      "  'issueddate': '2017-04-03',\n",
      "  'latitude': '47.65300378',\n",
      "  'link': {'url': 'https://cosaccela.seattle.gov/portal/customize/LinkToRecord.aspx?altId=6531736-PH'},\n",
      "  'location1': {'latitude': '47.65300378', 'longitude': '-122.30500427'},\n",
      "  'longitude': '-122.30500427',\n",
      "  'originaladdress1': '3800 EAST STEVENS WAY NE',\n",
      "  'originalcity': 'SEATTLE',\n",
      "  'originalstate': 'WA',\n",
      "  'originalzip': '98195',\n",
      "  'permitclass': 'Institutional',\n",
      "  'permitclassmapped': 'Non-Residential',\n",
      "  'permitnum': '6531736-PH',\n",
      "  'permittypedesc': 'New',\n",
      "  'permittypemapped': 'Building',\n",
      "  'statuscurrent': 'Completed'}]\n"
     ]
    }
   ],
   "source": [
    "import requests\n",
    "from pprint import pprint\n",
    "\n",
    "# save the API endpoint. This is the base URL for all API requests for the building permit dataset\n",
    "test_endpoint = \"https://data.seattle.gov/resource/76t5-zqzr.json?\"\n",
    "\n",
    "#specify some parameters (filtering the data so we only get the parts we want)\n",
    "test_params = \"$where=(PermitNum='6531736-PH')\"\n",
    "\n",
    "test_url = test_endpoint + test_params\n",
    "\n",
    "test_request = requests.get(test_url)\n",
    "test_data = test_request.json()\n",
    "\n",
    "pprint(test_url)\n",
    "pprint(test_data)"
   ]
  },
  {
   "cell_type": "markdown",
   "metadata": {},
   "source": [
    "## What just happened?\n",
    "You just made an APi request (or \"query\") to data.seattle.gov, and requested a single item (or \"row\") from the [dataset of Seattle building permits](https://data.seattle.gov/Permitting/Building-Permits/76t5-zqzr). You should click on this link to see what this looks like at their web portal - how they present the data for \"public consumption\". This dataset contains information about 135,000 proposed and completed building projects within the city of Seattle, going back at least a decade.\n",
    "\n",
    "In this case, we specified in our API request that we wanted data on a single building, using the parameter (\"filtering criteria\") ``$where=(PermitNum='6531736-PH')``. Since each row in this dataset has a unique permit number, we were able to retrieve a single record from the entire dataset."
   ]
  },
  {
   "cell_type": "markdown",
   "metadata": {},
   "source": [
    "## Using more complex parameters in your API query\n",
    "In most cases where you are gathering data from an API you will want to retrieve more than one item, and/or you won't know the unique id for the record(s) you want to retrieve. \n",
    "\n",
    "In these cases, you can use multiple parameters in combination to grab a set of rows from the dataset that share some characteristics.\n",
    "\n",
    "Some useful parameters are:\n",
    "- ``select``: which columns from the dataset you want to get for each item or row\n",
    "- ``where``: specific values for a column that you want (or don't want)\n",
    "- ``order``: sort by one of the columns in the output, e.g. start with the most recently issued permits\n",
    "- ``limit``: the maximum number of many rows you want to get\n"
   ]
  },
  {
   "cell_type": "markdown",
   "metadata": {},
   "source": [
    "### Finding column and value names in a dataset\n",
    "In many cases where you want to download data from a website via an API, you won't be able to see what the data looks like (its structure and its content) before you start querying. Fortunately, data.seattle.gov has [a spreadsheet-like interface](https://data.seattle.gov/Permitting/Building-Permits/76t5-zqzr/data) for each dataset, where you can preview the data and see the names of all of the columns. This makes it easier for us to decide how to build our query."
   ]
  },
  {
   "cell_type": "markdown",
   "metadata": {},
   "source": [
    "## Creating a more complex API query\n",
    "\n",
    "For example, anyone who lives in central Seattle knows that there have been a LOT of new apartment and condo buildings going up over the past decade! Let's say we wanted to track the rate of apartment building creation in Seattle over time, to see if the rate really has increased.\n",
    "\n",
    "Using a combination of different parameters in a single query, we can filter the building permit dataset and retrieve only the records we want.\n",
    "\n",
    "When doing a complex query like this, it is often useful to write it out for yourself in human language first, and then translate that into API parameters (the language that the computer reads).\n",
    "\n",
    "\"Give me basic information for the 1000 most recently completed new single and multifamily dwellings built in Seattle since 2006\"\n",
    "\n",
    "This query would look like this (paste it into your browser to try it out!):\n",
    "``https://data.seattle.gov/resource/76t5-zqzr.json?$select=PermitNum, PermitClass, CompletedDate, Description&$where=(PermitClass='Multifamily' OR PermitClass='Single Family/Duplex') AND PermitTypeDesc='New' AND CompletedDate > '2006-01-01'&$order=CompletedDate DESC&$limit=1000``\n",
    "\n",
    "As you can see, these URLs can get long and complicated! So it is often easier to send these complex queries using the ``params`` argument of the ``requests`` library. This allows you to organize these sub-components fo the query into a dictionary, where the keys are the parameters and the values are the filtering criteria."
   ]
  },
  {
   "cell_type": "code",
   "execution_count": 2,
   "metadata": {},
   "outputs": [],
   "source": [
    "bp_api_params = {\n",
    "\"$select\" : \"PermitNum, PermitClass, CompletedDate, Description\",\n",
    "\"$where\" : \"(PermitClass='Multifamily' OR PermitClass='Single Family/Duplex') AND PermitTypeDesc='New' AND CompletedDate > '2006-01-01'\",\n",
    "\"$order\" : \"CompletedDate DESC\",\n",
    "\"$limit\" : \"1000\",\n",
    "}"
   ]
  },
  {
   "cell_type": "markdown",
   "metadata": {},
   "source": [
    "Then you can pass this dictionary, along with the endpoint (see the first cell above) into the request."
   ]
  },
  {
   "cell_type": "code",
   "execution_count": 3,
   "metadata": {},
   "outputs": [
    {
     "name": "stdout",
     "output_type": "stream",
     "text": [
      "'https://data.seattle.gov/resource/76t5-zqzr.json?%24select=PermitNum%2C+PermitClass%2C+CompletedDate%2C+Description&%24where=%28PermitClass%3D%27Multifamily%27+OR+PermitClass%3D%27Single+Family%2FDuplex%27%29+AND+PermitTypeDesc%3D%27New%27+AND+CompletedDate+%3E+%272006-01-01%27&%24order=CompletedDate+DESC&%24limit=1000'\n",
      "[{'CompletedDate': '2021-04-09',\n",
      "  'Description': 'Construct north bldg. 1, per plan (Establish use as '\n",
      "                 'townhouses and construct 2 two-family dwellings and '\n",
      "                 'associated site work, per plans. Reviews and processing for '\n",
      "                 \"2 C/N's under 6675024-CN)\",\n",
      "  'PermitClass': 'Single Family/Duplex',\n",
      "  'PermitNum': '6675024-CN'},\n",
      " {'CompletedDate': '2021-04-08',\n",
      "  'Description': 'Establish use as and construct single family residence, per '\n",
      "                 'standard plan 6768368-SP.',\n",
      "  'PermitClass': 'Single Family/Duplex',\n",
      "  'PermitNum': '6771507-CN'},\n",
      " {'CompletedDate': '2021-04-08',\n",
      "  'Description': 'Establish use as and construct a single-family residence, '\n",
      "                 'per plans',\n",
      "  'PermitClass': 'Single Family/Duplex',\n",
      "  'PermitNum': '6761090-CN'},\n",
      " {'CompletedDate': '2021-04-08',\n",
      "  'Description': 'Establish use as and construct new townhomes, per plan.',\n",
      "  'PermitClass': 'Multifamily',\n",
      "  'PermitNum': '6692206-CN'},\n",
      " {'CompletedDate': '2021-04-08',\n",
      "  'Description': 'Construct west townhouse structure, per plan. [Establish use '\n",
      "                 'as rowhouses and townhouses and Construct (2) townhouse '\n",
      "                 'structures, per plan. Review and processing for (2) '\n",
      "                 'construction records under 6695204-CN.]',\n",
      "  'PermitClass': 'Multifamily',\n",
      "  'PermitNum': '6725536-CN'}]\n"
     ]
    }
   ],
   "source": [
    "bp_endpoint = \"https://data.seattle.gov/resource/76t5-zqzr.json?\"\n",
    "\n",
    "bp_request = requests.get(bp_endpoint, params=bp_api_params)\n",
    "bp_data = bp_request.json()\n",
    "\n",
    "pprint(bp_request.url) #you can still print out the full URL you sent to the API, to help debug\n",
    "pprint(bp_data[:5])#print out the first 5 items to check our work"
   ]
  },
  {
   "cell_type": "markdown",
   "metadata": {},
   "source": [
    "## Saving to CSV\n",
    "Now that you have the data you want stored in the list-of-dictionaries called ``bp_data``, you can start to work with it in Python! Or, if you just want to save this data file and work on it in a spreadsheet, you can save it directly to CSV at this point."
   ]
  },
  {
   "cell_type": "code",
   "execution_count": 4,
   "metadata": {},
   "outputs": [],
   "source": [
    "import csv\n",
    "\n",
    "#read through the list-of-dicts line by line and write it to CSV    \n",
    "with open('1000_most_recent_residential_permits.csv', 'w', encoding='utf-8') as csv_outfile:\n",
    "    writer = csv.writer(csv_outfile)\n",
    "\n",
    "    #first write the titles that will appear at the head of each column in the CSV\n",
    "    writer.writerow(('permit number', 'description', 'building type', 'completed date'))\n",
    "    \n",
    "    for b in bp_data:\n",
    "\n",
    "        #write the data for each permit application onto a single row in the CSV \n",
    "        writer.writerow((b['PermitNum'], b['Description'], b['PermitClass'], b['CompletedDate']))"
   ]
  },
  {
   "cell_type": "markdown",
   "metadata": {},
   "source": [
    "## A note on messy data\n",
    "The data in this dataset is messy and incomplete! Some of the rows in this dataset will be missing values for fields (like \"Original Zipcode\" and \"HousingUnitsAdded\" to name a few). You may find that this leads to errors when you are trying to analyze or export the data. \n",
    "\n",
    "In general, dealing with messy, inconsistent, incomplete data is the MOST TIME CONSUMING (and frustrating!) part of doing data science. If you are trying to write your own query and you are getting errors that you suspect may be due to missing or messy data, call a mentor over and we can work with you to try to debug this."
   ]
  },
  {
   "cell_type": "markdown",
   "metadata": {},
   "source": [
    "## Challenge Question\n",
    "\n",
    "What to do\n",
    "- Create three novel queries of your own design in three separate code cells below. All you need to do is to alter the query parameters to return different results. Try out different kinds of queries and see what you can get from the database. \n",
    "- Make sure to create a Markdown Cell between each of your new queries that describes what you are doing.\n",
    "- Save your work.\n",
    "\n",
    "I've started the cells for you:"
   ]
  },
  {
   "cell_type": "markdown",
   "metadata": {},
   "source": [
    "## Example 1\n",
    "\n",
    "I wanted to find out how the construction of duplexes has changed over time versus single-family homes.\n",
    "\n",
    "This query is for all permits in the single family/duplex and multifamily categories (because sometimes duplex permits end up under multifamily). Permits are then filtered by description:\n",
    "* Query ensures the description contains the keywords \"new\" or \"construct\"\n",
    "* If the description contains \"sfr\" or \"single family\" after \"new\" or \"construct\", count as construction of a new single family residence\n",
    "* If the description contains \"duplex\" after \"new\" or \"construct\", count as construction of a new duplex"
   ]
  },
  {
   "cell_type": "code",
   "execution_count": 5,
   "metadata": {},
   "outputs": [
    {
     "data": {
      "text/html": [
       "<div>\n",
       "<style scoped>\n",
       "    .dataframe tbody tr th:only-of-type {\n",
       "        vertical-align: middle;\n",
       "    }\n",
       "\n",
       "    .dataframe tbody tr th {\n",
       "        vertical-align: top;\n",
       "    }\n",
       "\n",
       "    .dataframe thead th {\n",
       "        text-align: right;\n",
       "    }\n",
       "</style>\n",
       "<table border=\"1\" class=\"dataframe\">\n",
       "  <thead>\n",
       "    <tr style=\"text-align: right;\">\n",
       "      <th></th>\n",
       "      <th>PermitNum</th>\n",
       "      <th>PermitClass</th>\n",
       "      <th>AppliedDate</th>\n",
       "      <th>CompletedDate</th>\n",
       "      <th>Description</th>\n",
       "    </tr>\n",
       "  </thead>\n",
       "  <tbody>\n",
       "    <tr>\n",
       "      <th>0</th>\n",
       "      <td>6772948-CN</td>\n",
       "      <td>Single Family/Duplex</td>\n",
       "      <td>2020-02-28</td>\n",
       "      <td>2021-02-10</td>\n",
       "      <td>Establish use as and construct new single fami...</td>\n",
       "    </tr>\n",
       "    <tr>\n",
       "      <th>1</th>\n",
       "      <td>6771507-CN</td>\n",
       "      <td>Single Family/Duplex</td>\n",
       "      <td>2020-02-25</td>\n",
       "      <td>2021-04-08</td>\n",
       "      <td>Establish use as and construct single family r...</td>\n",
       "    </tr>\n",
       "    <tr>\n",
       "      <th>2</th>\n",
       "      <td>6754329-CN</td>\n",
       "      <td>Single Family/Duplex</td>\n",
       "      <td>2020-01-07</td>\n",
       "      <td>2021-01-20</td>\n",
       "      <td>Establish use as and construct new single fami...</td>\n",
       "    </tr>\n",
       "    <tr>\n",
       "      <th>3</th>\n",
       "      <td>6763539-CN</td>\n",
       "      <td>Single Family/Duplex</td>\n",
       "      <td>2019-12-18</td>\n",
       "      <td>2021-03-30</td>\n",
       "      <td>Construct Middle duplex, per plan (Establish u...</td>\n",
       "    </tr>\n",
       "    <tr>\n",
       "      <th>4</th>\n",
       "      <td>6756865-CN</td>\n",
       "      <td>Single Family/Duplex</td>\n",
       "      <td>2019-12-18</td>\n",
       "      <td>2021-03-30</td>\n",
       "      <td>Construct South Single family residence, per p...</td>\n",
       "    </tr>\n",
       "  </tbody>\n",
       "</table>\n",
       "</div>"
      ],
      "text/plain": [
       "    PermitNum           PermitClass AppliedDate CompletedDate  \\\n",
       "0  6772948-CN  Single Family/Duplex  2020-02-28    2021-02-10   \n",
       "1  6771507-CN  Single Family/Duplex  2020-02-25    2021-04-08   \n",
       "2  6754329-CN  Single Family/Duplex  2020-01-07    2021-01-20   \n",
       "3  6763539-CN  Single Family/Duplex  2019-12-18    2021-03-30   \n",
       "4  6756865-CN  Single Family/Duplex  2019-12-18    2021-03-30   \n",
       "\n",
       "                                         Description  \n",
       "0  Establish use as and construct new single fami...  \n",
       "1  Establish use as and construct single family r...  \n",
       "2  Establish use as and construct new single fami...  \n",
       "3  Construct Middle duplex, per plan (Establish u...  \n",
       "4  Construct South Single family residence, per p...  "
      ]
     },
     "execution_count": 5,
     "metadata": {},
     "output_type": "execute_result"
    }
   ],
   "source": [
    "import pandas as pd\n",
    "\n",
    "query_limit = 1000\n",
    "\n",
    "# Single family query\n",
    "bp_api_params = {\n",
    "\"$select\" : \"PermitNum, PermitClass, AppliedDate, CompletedDate, Description\",\n",
    "\"$where\" : (\"(PermitClass='Multifamily' OR PermitClass='Single Family/Duplex') \"\n",
    "            \"AND PermitTypeDesc='New' AND CompletedDate > '2006-01-01' \"\n",
    "            \"AND NOT lower(Description) like '%alteration%' AND NOT lower(Description) like '%existing%' \"\n",
    "            \"AND (lower(Description) like '%new%sfr' OR lower(Description) like '%construct%sfr' \"\n",
    "                  \"OR lower(Description) like '%new single family%' OR lower(Description) like '%construct%single family%')\"\n",
    "           ),\n",
    "\"$order\" : \"AppliedDate DESC\",\n",
    "\"$limit\" : query_limit\n",
    "}\n",
    "\n",
    "bp_data = []\n",
    "try:\n",
    "    # We want to get as much data as they have, not just the first 1000 rows. To do that, keep\n",
    "    # repeating the request with an increasing \"$offset\" parameter until fewer than 1000 rows\n",
    "    # are returned.\n",
    "    while True:\n",
    "        bp_api_params['$offset'] = len(bp_data)\n",
    "        bp_request = requests.get(bp_endpoint, params=bp_api_params)\n",
    "        new_data = bp_request.json()\n",
    "        bp_data += new_data\n",
    "        if len(new_data) < query_limit:\n",
    "            break\n",
    "\n",
    "    # For debugging\n",
    "    #pprint(bp_api_params[\"$where\"])\n",
    "    #pprint(bp_request.url) #you can still print out the full URL you sent to the API, to help debug\n",
    "\n",
    "    df_sfr = pd.DataFrame(bp_data)\n",
    "    df_sfr[\"AppliedDate\"] = pd.to_datetime(df_sfr[\"AppliedDate\"])\n",
    "except TypeError as e:\n",
    "    pprint(bp_data)\n",
    "    \n",
    "df_sfr.head()"
   ]
  },
  {
   "cell_type": "markdown",
   "metadata": {},
   "source": [
    "Save the data"
   ]
  },
  {
   "cell_type": "code",
   "execution_count": 6,
   "metadata": {},
   "outputs": [],
   "source": [
    "df_sfr.to_csv(\"seattle_new_sfrs.csv\")"
   ]
  },
  {
   "cell_type": "markdown",
   "metadata": {},
   "source": [
    "## Example 2"
   ]
  },
  {
   "cell_type": "markdown",
   "metadata": {},
   "source": [
    "Now, query for the duplexes. This one is a bit simpler."
   ]
  },
  {
   "cell_type": "code",
   "execution_count": 7,
   "metadata": {},
   "outputs": [
    {
     "data": {
      "text/html": [
       "<div>\n",
       "<style scoped>\n",
       "    .dataframe tbody tr th:only-of-type {\n",
       "        vertical-align: middle;\n",
       "    }\n",
       "\n",
       "    .dataframe tbody tr th {\n",
       "        vertical-align: top;\n",
       "    }\n",
       "\n",
       "    .dataframe thead th {\n",
       "        text-align: right;\n",
       "    }\n",
       "</style>\n",
       "<table border=\"1\" class=\"dataframe\">\n",
       "  <thead>\n",
       "    <tr style=\"text-align: right;\">\n",
       "      <th></th>\n",
       "      <th>PermitNum</th>\n",
       "      <th>PermitClass</th>\n",
       "      <th>AppliedDate</th>\n",
       "      <th>CompletedDate</th>\n",
       "      <th>Description</th>\n",
       "    </tr>\n",
       "  </thead>\n",
       "  <tbody>\n",
       "    <tr>\n",
       "      <th>0</th>\n",
       "      <td>6763540-CN</td>\n",
       "      <td>Single Family/Duplex</td>\n",
       "      <td>2019-12-18</td>\n",
       "      <td>2021-03-30</td>\n",
       "      <td>Construct North Single family residence, per p...</td>\n",
       "    </tr>\n",
       "    <tr>\n",
       "      <th>1</th>\n",
       "      <td>6756865-CN</td>\n",
       "      <td>Single Family/Duplex</td>\n",
       "      <td>2019-12-18</td>\n",
       "      <td>2021-03-30</td>\n",
       "      <td>Construct South Single family residence, per p...</td>\n",
       "    </tr>\n",
       "    <tr>\n",
       "      <th>2</th>\n",
       "      <td>6763539-CN</td>\n",
       "      <td>Single Family/Duplex</td>\n",
       "      <td>2019-12-18</td>\n",
       "      <td>2021-03-30</td>\n",
       "      <td>Construct Middle duplex, per plan (Establish u...</td>\n",
       "    </tr>\n",
       "    <tr>\n",
       "      <th>3</th>\n",
       "      <td>6747064-CN</td>\n",
       "      <td>Multifamily</td>\n",
       "      <td>2019-09-07</td>\n",
       "      <td>2021-01-19</td>\n",
       "      <td>Construct East townhouse building B, per plan....</td>\n",
       "    </tr>\n",
       "    <tr>\n",
       "      <th>4</th>\n",
       "      <td>6744045-CN</td>\n",
       "      <td>Multifamily</td>\n",
       "      <td>2019-08-19</td>\n",
       "      <td>2021-01-27</td>\n",
       "      <td>Construct north building (Establish use as tow...</td>\n",
       "    </tr>\n",
       "  </tbody>\n",
       "</table>\n",
       "</div>"
      ],
      "text/plain": [
       "    PermitNum           PermitClass AppliedDate CompletedDate  \\\n",
       "0  6763540-CN  Single Family/Duplex  2019-12-18    2021-03-30   \n",
       "1  6756865-CN  Single Family/Duplex  2019-12-18    2021-03-30   \n",
       "2  6763539-CN  Single Family/Duplex  2019-12-18    2021-03-30   \n",
       "3  6747064-CN           Multifamily  2019-09-07    2021-01-19   \n",
       "4  6744045-CN           Multifamily  2019-08-19    2021-01-27   \n",
       "\n",
       "                                         Description  \n",
       "0  Construct North Single family residence, per p...  \n",
       "1  Construct South Single family residence, per p...  \n",
       "2  Construct Middle duplex, per plan (Establish u...  \n",
       "3  Construct East townhouse building B, per plan....  \n",
       "4  Construct north building (Establish use as tow...  "
      ]
     },
     "execution_count": 7,
     "metadata": {},
     "output_type": "execute_result"
    }
   ],
   "source": [
    "bp_api_params['$where'] = (\"(PermitClass='Multifamily' OR PermitClass='Single Family/Duplex') \"\n",
    "                           \"AND PermitTypeDesc='New' AND CompletedDate > '2006-01-01' \"\n",
    "                           \"AND NOT lower(Description) like '%alteration%' AND NOT lower(Description) like '%existing%' \"\n",
    "                           \"AND (lower(Description) like '%new%duplex%' OR lower(Description) like '%construct%duplex%')\"\n",
    "                          )\n",
    "\n",
    "bp_data = []\n",
    "try:\n",
    "    while True:\n",
    "        bp_api_params['$offset'] = len(bp_data)\n",
    "        bp_request = requests.get(bp_endpoint, params=bp_api_params)\n",
    "        new_data = bp_request.json()\n",
    "        bp_data += new_data\n",
    "        if len(new_data) < query_limit:\n",
    "            break\n",
    "\n",
    "    #pprint(bp_api_params[\"$where\"])\n",
    "    #pprint(bp_request.url) #you can still print out the full URL you sent to the API, to help debug\n",
    "\n",
    "    df_duplex = pd.DataFrame(bp_data)\n",
    "    df_duplex[\"AppliedDate\"] = pd.to_datetime(df_duplex[\"AppliedDate\"])\n",
    "except TypeError as e:\n",
    "    pprint(bp_data)\n",
    "    \n",
    "df_duplex.head()"
   ]
  },
  {
   "cell_type": "markdown",
   "metadata": {},
   "source": [
    "Save the data"
   ]
  },
  {
   "cell_type": "code",
   "execution_count": 8,
   "metadata": {},
   "outputs": [],
   "source": [
    "df_duplex.to_csv(\"seattle_new_duplexes.csv\")"
   ]
  },
  {
   "cell_type": "markdown",
   "metadata": {},
   "source": [
    "Generate a plot to compare SFR and Duplex construction"
   ]
  },
  {
   "cell_type": "code",
   "execution_count": 9,
   "metadata": {},
   "outputs": [
    {
     "data": {
      "text/plain": [
       "[Text(0, 0.5, 'New applications per month'),\n",
       " Text(0.5, 1.0, 'Seattle Building Permits for New Construction of Single Family vs Duplexes')]"
      ]
     },
     "execution_count": 9,
     "metadata": {},
     "output_type": "execute_result"
    },
    {
     "data": {
      "image/png": "[encoded data removed]",
      "text/plain": [
       "<Figure size 432x288 with 1 Axes>"
      ]
     },
     "metadata": {
      "needs_background": "light"
     },
     "output_type": "display_data"
    }
   ],
   "source": [
    "import matplotlib.pyplot as plt\n",
    "\n",
    "# https://stackoverflow.com/questions/26646191/pandas-groupby-month-and-year\n",
    "sfr_counts_by_month = df_sfr.set_index(\"AppliedDate\").groupby(pd.Grouper(freq=\"M\")).size()\n",
    "duplex_counts_by_month = df_duplex.set_index(\"AppliedDate\").groupby(pd.Grouper(freq=\"M\")).size()\n",
    "\n",
    "fig, ax = plt.subplots()\n",
    "ax.bar(sfr_counts_by_month.index, sfr_counts_by_month, width=pd.Timedelta(31, 'day'), label=\"SFR\")\n",
    "ax.bar(duplex_counts_by_month.index, -duplex_counts_by_month, width=pd.Timedelta(31, 'day'), label=\"Duplex\")\n",
    "# Adapted from https://matplotlib.org/stable/gallery/ticks_and_spines/spine_placement_demo.html#sphx-glr-gallery-ticks-and-spines-spine-placement-demo-py\n",
    "ax.spines['top'].set_position('zero')\n",
    "ax.spines['right'].set_color('none')\n",
    "ax.spines['top'].set_smart_bounds(True)\n",
    "ax.xaxis.set_ticks_position('bottom')\n",
    "ax.legend()\n",
    "ax.set(ylabel=\"New applications per month\", title=\"Seattle Building Permits for New Construction of Single Family vs Duplexes\")"
   ]
  },
  {
   "cell_type": "markdown",
   "metadata": {},
   "source": [
    "Wow, duplex permitting doesn't seem to have recovered since the housing market collapse.\n",
    "\n",
    "## Example 3\n",
    "\n",
    "How many ADU applications were there? Perhaps ADUs have become more popular and replaced duplex construction."
   ]
  },
  {
   "cell_type": "code",
   "execution_count": 10,
   "metadata": {},
   "outputs": [
    {
     "data": {
      "text/html": [
       "<div>\n",
       "<style scoped>\n",
       "    .dataframe tbody tr th:only-of-type {\n",
       "        vertical-align: middle;\n",
       "    }\n",
       "\n",
       "    .dataframe tbody tr th {\n",
       "        vertical-align: top;\n",
       "    }\n",
       "\n",
       "    .dataframe thead th {\n",
       "        text-align: right;\n",
       "    }\n",
       "</style>\n",
       "<table border=\"1\" class=\"dataframe\">\n",
       "  <thead>\n",
       "    <tr style=\"text-align: right;\">\n",
       "      <th></th>\n",
       "      <th>PermitNum</th>\n",
       "      <th>PermitClass</th>\n",
       "      <th>AppliedDate</th>\n",
       "      <th>CompletedDate</th>\n",
       "      <th>Description</th>\n",
       "    </tr>\n",
       "  </thead>\n",
       "  <tbody>\n",
       "    <tr>\n",
       "      <th>0</th>\n",
       "      <td>6744525-CN</td>\n",
       "      <td>Single Family/Duplex</td>\n",
       "      <td>2019-12-18</td>\n",
       "      <td>2021-02-05</td>\n",
       "      <td>Construct terraced garage with detached access...</td>\n",
       "    </tr>\n",
       "    <tr>\n",
       "      <th>1</th>\n",
       "      <td>6756859-CN</td>\n",
       "      <td>Single Family/Duplex</td>\n",
       "      <td>2019-12-18</td>\n",
       "      <td>2021-01-19</td>\n",
       "      <td>Establish use as and construct new single fami...</td>\n",
       "    </tr>\n",
       "    <tr>\n",
       "      <th>2</th>\n",
       "      <td>6753091-CN</td>\n",
       "      <td>Single Family/Duplex</td>\n",
       "      <td>2019-12-18</td>\n",
       "      <td>2021-01-21</td>\n",
       "      <td>Establish use as and construct a new single fa...</td>\n",
       "    </tr>\n",
       "    <tr>\n",
       "      <th>3</th>\n",
       "      <td>6731203-CN</td>\n",
       "      <td>Single Family/Duplex</td>\n",
       "      <td>2019-09-07</td>\n",
       "      <td>2021-03-09</td>\n",
       "      <td>Establish use as and construct single family r...</td>\n",
       "    </tr>\n",
       "    <tr>\n",
       "      <th>4</th>\n",
       "      <td>6721878-CN</td>\n",
       "      <td>Single Family/Duplex</td>\n",
       "      <td>2019-08-19</td>\n",
       "      <td>2021-02-03</td>\n",
       "      <td>Establish use as and construct single family r...</td>\n",
       "    </tr>\n",
       "  </tbody>\n",
       "</table>\n",
       "</div>"
      ],
      "text/plain": [
       "    PermitNum           PermitClass AppliedDate CompletedDate  \\\n",
       "0  6744525-CN  Single Family/Duplex  2019-12-18    2021-02-05   \n",
       "1  6756859-CN  Single Family/Duplex  2019-12-18    2021-01-19   \n",
       "2  6753091-CN  Single Family/Duplex  2019-12-18    2021-01-21   \n",
       "3  6731203-CN  Single Family/Duplex  2019-09-07    2021-03-09   \n",
       "4  6721878-CN  Single Family/Duplex  2019-08-19    2021-02-03   \n",
       "\n",
       "                                         Description  \n",
       "0  Construct terraced garage with detached access...  \n",
       "1  Establish use as and construct new single fami...  \n",
       "2  Establish use as and construct a new single fa...  \n",
       "3  Establish use as and construct single family r...  \n",
       "4  Establish use as and construct single family r...  "
      ]
     },
     "execution_count": 10,
     "metadata": {},
     "output_type": "execute_result"
    }
   ],
   "source": [
    "bp_api_params['$where'] = (\"(PermitClass='Multifamily' OR PermitClass='Single Family/Duplex') \"\n",
    "                           \"AND PermitTypeDesc='New' AND CompletedDate > '2006-01-01' \"\n",
    "                           \"AND NOT lower(Description) like '%alteration%' AND NOT lower(Description) like '%existing%' \"\n",
    "                           \"AND (lower(Description) like '%new%accessory dwelling%' OR lower(Description) like '%construct%accessory dwelling%')\"\n",
    "                          )\n",
    "\n",
    "bp_data = []\n",
    "try:\n",
    "    while True:\n",
    "        bp_api_params['$offset'] = len(bp_data)\n",
    "        bp_request = requests.get(bp_endpoint, params=bp_api_params)\n",
    "        new_data = bp_request.json()\n",
    "        bp_data += new_data\n",
    "        if len(new_data) < query_limit:\n",
    "            break\n",
    "\n",
    "    #pprint(bp_api_params[\"$where\"])\n",
    "    #pprint(bp_request.url) #you can still print out the full URL you sent to the API, to help debug\n",
    "\n",
    "    df_adu = pd.DataFrame(bp_data)\n",
    "    df_adu[\"AppliedDate\"] = pd.to_datetime(df_duplex[\"AppliedDate\"])\n",
    "except TypeError as e:\n",
    "    pprint(bp_data)\n",
    "    \n",
    "df_adu.head()"
   ]
  },
  {
   "cell_type": "markdown",
   "metadata": {},
   "source": [
    "Save the data"
   ]
  },
  {
   "cell_type": "code",
   "execution_count": 11,
   "metadata": {},
   "outputs": [],
   "source": [
    "df_adu.to_csv(\"seattle_new_adus.csv\")"
   ]
  },
  {
   "cell_type": "markdown",
   "metadata": {},
   "source": [
    "Update the plot from above by adding the duplex and ADU applications together to compare against SFRs"
   ]
  },
  {
   "cell_type": "code",
   "execution_count": 12,
   "metadata": {},
   "outputs": [
    {
     "data": {
      "text/plain": [
       "[Text(0, 0.5, 'New applications per month'),\n",
       " Text(0.5, 1.0, 'Seattle Building Permits for New Construction of Single Family vs Duplexes and ADUs')]"
      ]
     },
     "execution_count": 12,
     "metadata": {},
     "output_type": "execute_result"
    },
    {
     "data": {
      "image/png": "[encoded data removed]",
      "text/plain": [
       "<Figure size 432x288 with 1 Axes>"
      ]
     },
     "metadata": {
      "needs_background": "light"
     },
     "output_type": "display_data"
    }
   ],
   "source": [
    "# See https://pandas.pydata.org/pandas-docs/stable/reference/api/pandas.Series.add.html\n",
    "adu_dupl_counts_by_month = duplex_counts_by_month.add(df_adu.set_index(\"AppliedDate\").groupby(pd.Grouper(freq=\"M\")).size(), fill_value=0)\n",
    "\n",
    "fig, ax = plt.subplots()\n",
    "ax.bar(sfr_counts_by_month.index, sfr_counts_by_month, width=pd.Timedelta(31, 'day'), label=\"SFR\")\n",
    "ax.bar(adu_dupl_counts_by_month.index, -adu_dupl_counts_by_month, width=pd.Timedelta(31, 'day'), label=\"Duplex + ADU\")\n",
    "# Adapted from https://matplotlib.org/stable/gallery/ticks_and_spines/spine_placement_demo.html#sphx-glr-gallery-ticks-and-spines-spine-placement-demo-py\n",
    "ax.spines['top'].set_position('zero')\n",
    "ax.spines['right'].set_color('none')\n",
    "ax.spines['top'].set_smart_bounds(True)\n",
    "ax.xaxis.set_ticks_position('bottom')\n",
    "ax.legend()\n",
    "ax.set(ylabel=\"New applications per month\", title=\"Seattle Building Permits for New Construction of Single Family vs Duplexes and ADUs\")"
   ]
  },
  {
   "cell_type": "markdown",
   "metadata": {},
   "source": [
    "That slightly improves the ratio but not enough."
   ]
  },
  {
   "cell_type": "code",
   "execution_count": null,
   "metadata": {},
   "outputs": [],
   "source": []
  }
 ],
 "metadata": {
  "kernelspec": {
   "display_name": "Python 3",
   "language": "python",
   "name": "python3"
  },
  "language_info": {
   "codemirror_mode": {
    "name": "ipython",
    "version": 3
   },
   "file_extension": ".py",
   "mimetype": "text/x-python",
   "name": "python",
   "nbconvert_exporter": "python",
   "pygments_lexer": "ipython3",
   "version": "3.8.5"
  }
 },
 "nbformat": 4,
 "nbformat_minor": 4
}
